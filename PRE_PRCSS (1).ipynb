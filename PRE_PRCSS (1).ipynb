{
  "nbformat": 4,
  "nbformat_minor": 0,
  "metadata": {
    "colab": {
      "provenance": []
    },
    "kernelspec": {
      "name": "python3",
      "display_name": "Python 3"
    },
    "language_info": {
      "name": "python"
    }
  },
  "cells": [
    {
      "cell_type": "markdown",
      "source": [
        "# **PRE PROCESSAMENTO DADOS LINHA TELEFONICA**\n"
      ],
      "metadata": {
        "id": "oRsiqY067PIY"
      }
    },
    {
      "cell_type": "code",
      "execution_count": 10,
      "metadata": {
        "id": "JT5cIPR07GqI"
      },
      "outputs": [],
      "source": [
        "import seaborn as sns\n",
        "import matplotlib.pyplot as plt\n",
        "import pandas as pd"
      ]
    },
    {
      "cell_type": "code",
      "source": [
        "df = pd.read_csv(\"CHURN_TELECON_MOD08_TAREFA.csv\", delimiter=';')\n",
        "\n",
        "df.head(10)"
      ],
      "metadata": {
        "colab": {
          "base_uri": "https://localhost:8080/",
          "height": 556
        },
        "id": "YpQybbwr76nX",
        "outputId": "f8159c85-d265-47c8-e93b-ede9c92c41a9"
      },
      "execution_count": 11,
      "outputs": [
        {
          "output_type": "execute_result",
          "data": {
            "text/plain": [
              "   customerID  Genero  Idoso Casado Dependents  Tempo_como_Cliente  \\\n",
              "0  7590-VHVEG  Female      0    Yes         No                   1   \n",
              "1  5575-GNVDE    Male      0     No         No                  34   \n",
              "2  3668-QPYBK    Male      0     No         No                   2   \n",
              "3  7795-CFOCW    Male      0     No         No                  45   \n",
              "4  9237-HQITU     NaN      0     No         No                   2   \n",
              "5  9305-CDSKC     NaN      0     No         No                   8   \n",
              "6  1452-KIOVK     NaN      0     No        Yes                  22   \n",
              "7  6713-OKOMC     NaN      0     No         No                  10   \n",
              "8  7892-POOKP     NaN      0    Yes         No                  28   \n",
              "9  6388-TABGU     NaN      0     No        Yes                  62   \n",
              "\n",
              "  PhoneService Servico_Internet Servico_Seguranca Suporte_Tecnico StreamingTV  \\\n",
              "0           No              DSL                No              No          No   \n",
              "1          Yes              DSL               Yes              No          No   \n",
              "2          Yes              DSL               Yes              No          No   \n",
              "3           No              DSL               Yes             Yes          No   \n",
              "4          Yes      Fiber optic                No              No          No   \n",
              "5          Yes      Fiber optic                No              No         Yes   \n",
              "6          Yes      Fiber optic                No              No         Yes   \n",
              "7           No              DSL               Yes              No          No   \n",
              "8          Yes      Fiber optic                No             Yes         Yes   \n",
              "9          Yes              dsl               Yes              No          No   \n",
              "\n",
              "    Tipo_Contrato              PaymentMethod  Pagamento_Mensal  Total_Pago  \\\n",
              "0  Month-to-month           Electronic check             29.85       29.85   \n",
              "1        One year               Mailed check             56.95     1889.50   \n",
              "2  Month-to-month               Mailed check             53.85      108.15   \n",
              "3        One year  Bank transfer (automatic)               NaN     1840.75   \n",
              "4  Month-to-month           Electronic check               NaN      151.65   \n",
              "5  Month-to-month           Electronic check               NaN      820.50   \n",
              "6  Month-to-month    Credit card (automatic)               NaN     1949.40   \n",
              "7  Month-to-month               Mailed check               NaN      301.90   \n",
              "8  Month-to-month           Electronic check               NaN     3046.05   \n",
              "9        One year  Bank transfer (automatic)               NaN     3487.95   \n",
              "\n",
              "  Churn  \n",
              "0    No  \n",
              "1    No  \n",
              "2   Yes  \n",
              "3    No  \n",
              "4   Yes  \n",
              "5   NaN  \n",
              "6   NaN  \n",
              "7   NaN  \n",
              "8   NaN  \n",
              "9   NaN  "
            ],
            "text/html": [
              "\n",
              "  <div id=\"df-603e1a88-c4d1-4071-828b-7625761fd51f\" class=\"colab-df-container\">\n",
              "    <div>\n",
              "<style scoped>\n",
              "    .dataframe tbody tr th:only-of-type {\n",
              "        vertical-align: middle;\n",
              "    }\n",
              "\n",
              "    .dataframe tbody tr th {\n",
              "        vertical-align: top;\n",
              "    }\n",
              "\n",
              "    .dataframe thead th {\n",
              "        text-align: right;\n",
              "    }\n",
              "</style>\n",
              "<table border=\"1\" class=\"dataframe\">\n",
              "  <thead>\n",
              "    <tr style=\"text-align: right;\">\n",
              "      <th></th>\n",
              "      <th>customerID</th>\n",
              "      <th>Genero</th>\n",
              "      <th>Idoso</th>\n",
              "      <th>Casado</th>\n",
              "      <th>Dependents</th>\n",
              "      <th>Tempo_como_Cliente</th>\n",
              "      <th>PhoneService</th>\n",
              "      <th>Servico_Internet</th>\n",
              "      <th>Servico_Seguranca</th>\n",
              "      <th>Suporte_Tecnico</th>\n",
              "      <th>StreamingTV</th>\n",
              "      <th>Tipo_Contrato</th>\n",
              "      <th>PaymentMethod</th>\n",
              "      <th>Pagamento_Mensal</th>\n",
              "      <th>Total_Pago</th>\n",
              "      <th>Churn</th>\n",
              "    </tr>\n",
              "  </thead>\n",
              "  <tbody>\n",
              "    <tr>\n",
              "      <th>0</th>\n",
              "      <td>7590-VHVEG</td>\n",
              "      <td>Female</td>\n",
              "      <td>0</td>\n",
              "      <td>Yes</td>\n",
              "      <td>No</td>\n",
              "      <td>1</td>\n",
              "      <td>No</td>\n",
              "      <td>DSL</td>\n",
              "      <td>No</td>\n",
              "      <td>No</td>\n",
              "      <td>No</td>\n",
              "      <td>Month-to-month</td>\n",
              "      <td>Electronic check</td>\n",
              "      <td>29.85</td>\n",
              "      <td>29.85</td>\n",
              "      <td>No</td>\n",
              "    </tr>\n",
              "    <tr>\n",
              "      <th>1</th>\n",
              "      <td>5575-GNVDE</td>\n",
              "      <td>Male</td>\n",
              "      <td>0</td>\n",
              "      <td>No</td>\n",
              "      <td>No</td>\n",
              "      <td>34</td>\n",
              "      <td>Yes</td>\n",
              "      <td>DSL</td>\n",
              "      <td>Yes</td>\n",
              "      <td>No</td>\n",
              "      <td>No</td>\n",
              "      <td>One year</td>\n",
              "      <td>Mailed check</td>\n",
              "      <td>56.95</td>\n",
              "      <td>1889.50</td>\n",
              "      <td>No</td>\n",
              "    </tr>\n",
              "    <tr>\n",
              "      <th>2</th>\n",
              "      <td>3668-QPYBK</td>\n",
              "      <td>Male</td>\n",
              "      <td>0</td>\n",
              "      <td>No</td>\n",
              "      <td>No</td>\n",
              "      <td>2</td>\n",
              "      <td>Yes</td>\n",
              "      <td>DSL</td>\n",
              "      <td>Yes</td>\n",
              "      <td>No</td>\n",
              "      <td>No</td>\n",
              "      <td>Month-to-month</td>\n",
              "      <td>Mailed check</td>\n",
              "      <td>53.85</td>\n",
              "      <td>108.15</td>\n",
              "      <td>Yes</td>\n",
              "    </tr>\n",
              "    <tr>\n",
              "      <th>3</th>\n",
              "      <td>7795-CFOCW</td>\n",
              "      <td>Male</td>\n",
              "      <td>0</td>\n",
              "      <td>No</td>\n",
              "      <td>No</td>\n",
              "      <td>45</td>\n",
              "      <td>No</td>\n",
              "      <td>DSL</td>\n",
              "      <td>Yes</td>\n",
              "      <td>Yes</td>\n",
              "      <td>No</td>\n",
              "      <td>One year</td>\n",
              "      <td>Bank transfer (automatic)</td>\n",
              "      <td>NaN</td>\n",
              "      <td>1840.75</td>\n",
              "      <td>No</td>\n",
              "    </tr>\n",
              "    <tr>\n",
              "      <th>4</th>\n",
              "      <td>9237-HQITU</td>\n",
              "      <td>NaN</td>\n",
              "      <td>0</td>\n",
              "      <td>No</td>\n",
              "      <td>No</td>\n",
              "      <td>2</td>\n",
              "      <td>Yes</td>\n",
              "      <td>Fiber optic</td>\n",
              "      <td>No</td>\n",
              "      <td>No</td>\n",
              "      <td>No</td>\n",
              "      <td>Month-to-month</td>\n",
              "      <td>Electronic check</td>\n",
              "      <td>NaN</td>\n",
              "      <td>151.65</td>\n",
              "      <td>Yes</td>\n",
              "    </tr>\n",
              "    <tr>\n",
              "      <th>5</th>\n",
              "      <td>9305-CDSKC</td>\n",
              "      <td>NaN</td>\n",
              "      <td>0</td>\n",
              "      <td>No</td>\n",
              "      <td>No</td>\n",
              "      <td>8</td>\n",
              "      <td>Yes</td>\n",
              "      <td>Fiber optic</td>\n",
              "      <td>No</td>\n",
              "      <td>No</td>\n",
              "      <td>Yes</td>\n",
              "      <td>Month-to-month</td>\n",
              "      <td>Electronic check</td>\n",
              "      <td>NaN</td>\n",
              "      <td>820.50</td>\n",
              "      <td>NaN</td>\n",
              "    </tr>\n",
              "    <tr>\n",
              "      <th>6</th>\n",
              "      <td>1452-KIOVK</td>\n",
              "      <td>NaN</td>\n",
              "      <td>0</td>\n",
              "      <td>No</td>\n",
              "      <td>Yes</td>\n",
              "      <td>22</td>\n",
              "      <td>Yes</td>\n",
              "      <td>Fiber optic</td>\n",
              "      <td>No</td>\n",
              "      <td>No</td>\n",
              "      <td>Yes</td>\n",
              "      <td>Month-to-month</td>\n",
              "      <td>Credit card (automatic)</td>\n",
              "      <td>NaN</td>\n",
              "      <td>1949.40</td>\n",
              "      <td>NaN</td>\n",
              "    </tr>\n",
              "    <tr>\n",
              "      <th>7</th>\n",
              "      <td>6713-OKOMC</td>\n",
              "      <td>NaN</td>\n",
              "      <td>0</td>\n",
              "      <td>No</td>\n",
              "      <td>No</td>\n",
              "      <td>10</td>\n",
              "      <td>No</td>\n",
              "      <td>DSL</td>\n",
              "      <td>Yes</td>\n",
              "      <td>No</td>\n",
              "      <td>No</td>\n",
              "      <td>Month-to-month</td>\n",
              "      <td>Mailed check</td>\n",
              "      <td>NaN</td>\n",
              "      <td>301.90</td>\n",
              "      <td>NaN</td>\n",
              "    </tr>\n",
              "    <tr>\n",
              "      <th>8</th>\n",
              "      <td>7892-POOKP</td>\n",
              "      <td>NaN</td>\n",
              "      <td>0</td>\n",
              "      <td>Yes</td>\n",
              "      <td>No</td>\n",
              "      <td>28</td>\n",
              "      <td>Yes</td>\n",
              "      <td>Fiber optic</td>\n",
              "      <td>No</td>\n",
              "      <td>Yes</td>\n",
              "      <td>Yes</td>\n",
              "      <td>Month-to-month</td>\n",
              "      <td>Electronic check</td>\n",
              "      <td>NaN</td>\n",
              "      <td>3046.05</td>\n",
              "      <td>NaN</td>\n",
              "    </tr>\n",
              "    <tr>\n",
              "      <th>9</th>\n",
              "      <td>6388-TABGU</td>\n",
              "      <td>NaN</td>\n",
              "      <td>0</td>\n",
              "      <td>No</td>\n",
              "      <td>Yes</td>\n",
              "      <td>62</td>\n",
              "      <td>Yes</td>\n",
              "      <td>dsl</td>\n",
              "      <td>Yes</td>\n",
              "      <td>No</td>\n",
              "      <td>No</td>\n",
              "      <td>One year</td>\n",
              "      <td>Bank transfer (automatic)</td>\n",
              "      <td>NaN</td>\n",
              "      <td>3487.95</td>\n",
              "      <td>NaN</td>\n",
              "    </tr>\n",
              "  </tbody>\n",
              "</table>\n",
              "</div>\n",
              "    <div class=\"colab-df-buttons\">\n",
              "\n",
              "  <div class=\"colab-df-container\">\n",
              "    <button class=\"colab-df-convert\" onclick=\"convertToInteractive('df-603e1a88-c4d1-4071-828b-7625761fd51f')\"\n",
              "            title=\"Convert this dataframe to an interactive table.\"\n",
              "            style=\"display:none;\">\n",
              "\n",
              "  <svg xmlns=\"http://www.w3.org/2000/svg\" height=\"24px\" viewBox=\"0 -960 960 960\">\n",
              "    <path d=\"M120-120v-720h720v720H120Zm60-500h600v-160H180v160Zm220 220h160v-160H400v160Zm0 220h160v-160H400v160ZM180-400h160v-160H180v160Zm440 0h160v-160H620v160ZM180-180h160v-160H180v160Zm440 0h160v-160H620v160Z\"/>\n",
              "  </svg>\n",
              "    </button>\n",
              "\n",
              "  <style>\n",
              "    .colab-df-container {\n",
              "      display:flex;\n",
              "      gap: 12px;\n",
              "    }\n",
              "\n",
              "    .colab-df-convert {\n",
              "      background-color: #E8F0FE;\n",
              "      border: none;\n",
              "      border-radius: 50%;\n",
              "      cursor: pointer;\n",
              "      display: none;\n",
              "      fill: #1967D2;\n",
              "      height: 32px;\n",
              "      padding: 0 0 0 0;\n",
              "      width: 32px;\n",
              "    }\n",
              "\n",
              "    .colab-df-convert:hover {\n",
              "      background-color: #E2EBFA;\n",
              "      box-shadow: 0px 1px 2px rgba(60, 64, 67, 0.3), 0px 1px 3px 1px rgba(60, 64, 67, 0.15);\n",
              "      fill: #174EA6;\n",
              "    }\n",
              "\n",
              "    .colab-df-buttons div {\n",
              "      margin-bottom: 4px;\n",
              "    }\n",
              "\n",
              "    [theme=dark] .colab-df-convert {\n",
              "      background-color: #3B4455;\n",
              "      fill: #D2E3FC;\n",
              "    }\n",
              "\n",
              "    [theme=dark] .colab-df-convert:hover {\n",
              "      background-color: #434B5C;\n",
              "      box-shadow: 0px 1px 3px 1px rgba(0, 0, 0, 0.15);\n",
              "      filter: drop-shadow(0px 1px 2px rgba(0, 0, 0, 0.3));\n",
              "      fill: #FFFFFF;\n",
              "    }\n",
              "  </style>\n",
              "\n",
              "    <script>\n",
              "      const buttonEl =\n",
              "        document.querySelector('#df-603e1a88-c4d1-4071-828b-7625761fd51f button.colab-df-convert');\n",
              "      buttonEl.style.display =\n",
              "        google.colab.kernel.accessAllowed ? 'block' : 'none';\n",
              "\n",
              "      async function convertToInteractive(key) {\n",
              "        const element = document.querySelector('#df-603e1a88-c4d1-4071-828b-7625761fd51f');\n",
              "        const dataTable =\n",
              "          await google.colab.kernel.invokeFunction('convertToInteractive',\n",
              "                                                    [key], {});\n",
              "        if (!dataTable) return;\n",
              "\n",
              "        const docLinkHtml = 'Like what you see? Visit the ' +\n",
              "          '<a target=\"_blank\" href=https://colab.research.google.com/notebooks/data_table.ipynb>data table notebook</a>'\n",
              "          + ' to learn more about interactive tables.';\n",
              "        element.innerHTML = '';\n",
              "        dataTable['output_type'] = 'display_data';\n",
              "        await google.colab.output.renderOutput(dataTable, element);\n",
              "        const docLink = document.createElement('div');\n",
              "        docLink.innerHTML = docLinkHtml;\n",
              "        element.appendChild(docLink);\n",
              "      }\n",
              "    </script>\n",
              "  </div>\n",
              "\n",
              "\n",
              "    <div id=\"df-71550ee6-c212-4411-bb3a-32d03a3c6459\">\n",
              "      <button class=\"colab-df-quickchart\" onclick=\"quickchart('df-71550ee6-c212-4411-bb3a-32d03a3c6459')\"\n",
              "                title=\"Suggest charts\"\n",
              "                style=\"display:none;\">\n",
              "\n",
              "<svg xmlns=\"http://www.w3.org/2000/svg\" height=\"24px\"viewBox=\"0 0 24 24\"\n",
              "     width=\"24px\">\n",
              "    <g>\n",
              "        <path d=\"M19 3H5c-1.1 0-2 .9-2 2v14c0 1.1.9 2 2 2h14c1.1 0 2-.9 2-2V5c0-1.1-.9-2-2-2zM9 17H7v-7h2v7zm4 0h-2V7h2v10zm4 0h-2v-4h2v4z\"/>\n",
              "    </g>\n",
              "</svg>\n",
              "      </button>\n",
              "\n",
              "<style>\n",
              "  .colab-df-quickchart {\n",
              "      --bg-color: #E8F0FE;\n",
              "      --fill-color: #1967D2;\n",
              "      --hover-bg-color: #E2EBFA;\n",
              "      --hover-fill-color: #174EA6;\n",
              "      --disabled-fill-color: #AAA;\n",
              "      --disabled-bg-color: #DDD;\n",
              "  }\n",
              "\n",
              "  [theme=dark] .colab-df-quickchart {\n",
              "      --bg-color: #3B4455;\n",
              "      --fill-color: #D2E3FC;\n",
              "      --hover-bg-color: #434B5C;\n",
              "      --hover-fill-color: #FFFFFF;\n",
              "      --disabled-bg-color: #3B4455;\n",
              "      --disabled-fill-color: #666;\n",
              "  }\n",
              "\n",
              "  .colab-df-quickchart {\n",
              "    background-color: var(--bg-color);\n",
              "    border: none;\n",
              "    border-radius: 50%;\n",
              "    cursor: pointer;\n",
              "    display: none;\n",
              "    fill: var(--fill-color);\n",
              "    height: 32px;\n",
              "    padding: 0;\n",
              "    width: 32px;\n",
              "  }\n",
              "\n",
              "  .colab-df-quickchart:hover {\n",
              "    background-color: var(--hover-bg-color);\n",
              "    box-shadow: 0 1px 2px rgba(60, 64, 67, 0.3), 0 1px 3px 1px rgba(60, 64, 67, 0.15);\n",
              "    fill: var(--button-hover-fill-color);\n",
              "  }\n",
              "\n",
              "  .colab-df-quickchart-complete:disabled,\n",
              "  .colab-df-quickchart-complete:disabled:hover {\n",
              "    background-color: var(--disabled-bg-color);\n",
              "    fill: var(--disabled-fill-color);\n",
              "    box-shadow: none;\n",
              "  }\n",
              "\n",
              "  .colab-df-spinner {\n",
              "    border: 2px solid var(--fill-color);\n",
              "    border-color: transparent;\n",
              "    border-bottom-color: var(--fill-color);\n",
              "    animation:\n",
              "      spin 1s steps(1) infinite;\n",
              "  }\n",
              "\n",
              "  @keyframes spin {\n",
              "    0% {\n",
              "      border-color: transparent;\n",
              "      border-bottom-color: var(--fill-color);\n",
              "      border-left-color: var(--fill-color);\n",
              "    }\n",
              "    20% {\n",
              "      border-color: transparent;\n",
              "      border-left-color: var(--fill-color);\n",
              "      border-top-color: var(--fill-color);\n",
              "    }\n",
              "    30% {\n",
              "      border-color: transparent;\n",
              "      border-left-color: var(--fill-color);\n",
              "      border-top-color: var(--fill-color);\n",
              "      border-right-color: var(--fill-color);\n",
              "    }\n",
              "    40% {\n",
              "      border-color: transparent;\n",
              "      border-right-color: var(--fill-color);\n",
              "      border-top-color: var(--fill-color);\n",
              "    }\n",
              "    60% {\n",
              "      border-color: transparent;\n",
              "      border-right-color: var(--fill-color);\n",
              "    }\n",
              "    80% {\n",
              "      border-color: transparent;\n",
              "      border-right-color: var(--fill-color);\n",
              "      border-bottom-color: var(--fill-color);\n",
              "    }\n",
              "    90% {\n",
              "      border-color: transparent;\n",
              "      border-bottom-color: var(--fill-color);\n",
              "    }\n",
              "  }\n",
              "</style>\n",
              "\n",
              "      <script>\n",
              "        async function quickchart(key) {\n",
              "          const quickchartButtonEl =\n",
              "            document.querySelector('#' + key + ' button');\n",
              "          quickchartButtonEl.disabled = true;  // To prevent multiple clicks.\n",
              "          quickchartButtonEl.classList.add('colab-df-spinner');\n",
              "          try {\n",
              "            const charts = await google.colab.kernel.invokeFunction(\n",
              "                'suggestCharts', [key], {});\n",
              "          } catch (error) {\n",
              "            console.error('Error during call to suggestCharts:', error);\n",
              "          }\n",
              "          quickchartButtonEl.classList.remove('colab-df-spinner');\n",
              "          quickchartButtonEl.classList.add('colab-df-quickchart-complete');\n",
              "        }\n",
              "        (() => {\n",
              "          let quickchartButtonEl =\n",
              "            document.querySelector('#df-71550ee6-c212-4411-bb3a-32d03a3c6459 button');\n",
              "          quickchartButtonEl.style.display =\n",
              "            google.colab.kernel.accessAllowed ? 'block' : 'none';\n",
              "        })();\n",
              "      </script>\n",
              "    </div>\n",
              "\n",
              "    </div>\n",
              "  </div>\n"
            ],
            "application/vnd.google.colaboratory.intrinsic+json": {
              "type": "dataframe",
              "variable_name": "df",
              "summary": "{\n  \"name\": \"df\",\n  \"rows\": 2500,\n  \"fields\": [\n    {\n      \"column\": \"customerID\",\n      \"properties\": {\n        \"dtype\": \"string\",\n        \"num_unique_values\": 2500,\n        \"samples\": [\n          \"2951-QOQTK\",\n          \"3312-UUMZW\",\n          \"3800-LYTRK\"\n        ],\n        \"semantic_type\": \"\",\n        \"description\": \"\"\n      }\n    },\n    {\n      \"column\": \"Genero\",\n      \"properties\": {\n        \"dtype\": \"category\",\n        \"num_unique_values\": 5,\n        \"samples\": [\n          \"Male\",\n          \"f\",\n          \"F\"\n        ],\n        \"semantic_type\": \"\",\n        \"description\": \"\"\n      }\n    },\n    {\n      \"column\": \"Idoso\",\n      \"properties\": {\n        \"dtype\": \"number\",\n        \"std\": 0,\n        \"min\": 0,\n        \"max\": 1,\n        \"num_unique_values\": 2,\n        \"samples\": [\n          1,\n          0\n        ],\n        \"semantic_type\": \"\",\n        \"description\": \"\"\n      }\n    },\n    {\n      \"column\": \"Casado\",\n      \"properties\": {\n        \"dtype\": \"category\",\n        \"num_unique_values\": 2,\n        \"samples\": [\n          \"No\",\n          \"Yes\"\n        ],\n        \"semantic_type\": \"\",\n        \"description\": \"\"\n      }\n    },\n    {\n      \"column\": \"Dependents\",\n      \"properties\": {\n        \"dtype\": \"category\",\n        \"num_unique_values\": 2,\n        \"samples\": [\n          \"Yes\",\n          \"No\"\n        ],\n        \"semantic_type\": \"\",\n        \"description\": \"\"\n      }\n    },\n    {\n      \"column\": \"Tempo_como_Cliente\",\n      \"properties\": {\n        \"dtype\": \"number\",\n        \"std\": 24,\n        \"min\": 0,\n        \"max\": 72,\n        \"num_unique_values\": 73,\n        \"samples\": [\n          8,\n          40\n        ],\n        \"semantic_type\": \"\",\n        \"description\": \"\"\n      }\n    },\n    {\n      \"column\": \"PhoneService\",\n      \"properties\": {\n        \"dtype\": \"category\",\n        \"num_unique_values\": 2,\n        \"samples\": [\n          \"Yes\",\n          \"No\"\n        ],\n        \"semantic_type\": \"\",\n        \"description\": \"\"\n      }\n    },\n    {\n      \"column\": \"Servico_Internet\",\n      \"properties\": {\n        \"dtype\": \"category\",\n        \"num_unique_values\": 4,\n        \"samples\": [\n          \"Fiber optic\",\n          \"No\"\n        ],\n        \"semantic_type\": \"\",\n        \"description\": \"\"\n      }\n    },\n    {\n      \"column\": \"Servico_Seguranca\",\n      \"properties\": {\n        \"dtype\": \"category\",\n        \"num_unique_values\": 3,\n        \"samples\": [\n          \"No\",\n          \"Yes\"\n        ],\n        \"semantic_type\": \"\",\n        \"description\": \"\"\n      }\n    },\n    {\n      \"column\": \"Suporte_Tecnico\",\n      \"properties\": {\n        \"dtype\": \"category\",\n        \"num_unique_values\": 3,\n        \"samples\": [\n          \"No\",\n          \"Yes\"\n        ],\n        \"semantic_type\": \"\",\n        \"description\": \"\"\n      }\n    },\n    {\n      \"column\": \"StreamingTV\",\n      \"properties\": {\n        \"dtype\": \"category\",\n        \"num_unique_values\": 3,\n        \"samples\": [\n          \"No\",\n          \"Yes\"\n        ],\n        \"semantic_type\": \"\",\n        \"description\": \"\"\n      }\n    },\n    {\n      \"column\": \"Tipo_Contrato\",\n      \"properties\": {\n        \"dtype\": \"category\",\n        \"num_unique_values\": 3,\n        \"samples\": [\n          \"Month-to-month\",\n          \"One year\"\n        ],\n        \"semantic_type\": \"\",\n        \"description\": \"\"\n      }\n    },\n    {\n      \"column\": \"PaymentMethod\",\n      \"properties\": {\n        \"dtype\": \"category\",\n        \"num_unique_values\": 4,\n        \"samples\": [\n          \"Mailed check\",\n          \"Credit card (automatic)\"\n        ],\n        \"semantic_type\": \"\",\n        \"description\": \"\"\n      }\n    },\n    {\n      \"column\": \"Pagamento_Mensal\",\n      \"properties\": {\n        \"dtype\": \"number\",\n        \"std\": 29.931520109798708,\n        \"min\": 18.4,\n        \"max\": 118.65,\n        \"num_unique_values\": 1021,\n        \"samples\": [\n          43.65,\n          66.35\n        ],\n        \"semantic_type\": \"\",\n        \"description\": \"\"\n      }\n    },\n    {\n      \"column\": \"Total_Pago\",\n      \"properties\": {\n        \"dtype\": \"number\",\n        \"std\": 2265.3477524929344,\n        \"min\": 18.8,\n        \"max\": 8564.75,\n        \"num_unique_values\": 2428,\n        \"samples\": [\n          60.65,\n          521.35\n        ],\n        \"semantic_type\": \"\",\n        \"description\": \"\"\n      }\n    },\n    {\n      \"column\": \"Churn\",\n      \"properties\": {\n        \"dtype\": \"category\",\n        \"num_unique_values\": 2,\n        \"samples\": [\n          \"Yes\",\n          \"No\"\n        ],\n        \"semantic_type\": \"\",\n        \"description\": \"\"\n      }\n    }\n  ]\n}"
            }
          },
          "metadata": {},
          "execution_count": 11
        }
      ]
    },
    {
      "cell_type": "markdown",
      "source": [
        "Legenda dos dados:\n",
        "\n",
        "*   **CustomerID** : Esse é o ID único de cada cliente nosso da rede de produtos de telecomunicação.\n",
        "\n",
        "*   **Genero** : O genero dos nossos clientes.\n",
        "\n",
        "*   **Idoso** : Se nosso cliente tem acima de 60 anos ou não. (Sim = 1 | Não = 0)\n",
        "\n",
        "*   **Casado** : Se nosso cliente é casado ou não.\n",
        "\n",
        "*   **Dependents** : Se cliente tem dependentes.\n",
        "\n",
        "*   **Tempo_como_Cliente** : Tempo em meses que nosso cliente está com a nossa empresa.\n",
        "\n",
        "*   **PhoneService** : Se ele contratou serviço telefônico com a nossa empresa.\n",
        "\n",
        "*   **Servico_Internet** : Qual o tipo de serviço de internet contratado.\n",
        "\n",
        "*   **Servico_Seguranca** : Se ele contratou serviço de segurança com a nossa empresa.\n",
        "\n",
        "*   **Suporte_Tecnico** : Se já acionou o suporte técnico.\n",
        "\n",
        "*   **StreamingTV** : Se ele contratou serviço de streaming para TV.\n",
        "\n",
        "*   **Tipo_Contrato** : Qual o tipo de contrato dos nossos clientes, se era mensal, anual etc.\n",
        "\n",
        "*   **Tipo_Contrato** : Qual o tipo de contrato dos nossos clientes, se era mensal, anual etc.\n",
        "\n",
        "*   **PaymentMethod** : Forma de Pagamento.\n",
        "\n",
        "*   **Pagamento_Mensal** : Quanto o cliente pagava mensalmente.\n",
        "\n",
        "*   **Total_Pago** : Total já pago pelo cliente para nossa companhia.\n",
        "\n",
        "*   **Churn** : Nossa coluna mais importante, se nosso cliente nos abandonou ou não.\n",
        "\n",
        "\n"
      ],
      "metadata": {
        "id": "-Cmll45c8TGu"
      }
    },
    {
      "cell_type": "markdown",
      "source": [
        "# 1 - VERIFICAÇÃO DO TIPO DE DADOS:"
      ],
      "metadata": {
        "id": "2aZL5edn-Sxy"
      }
    },
    {
      "cell_type": "code",
      "source": [
        "df.dtypes"
      ],
      "metadata": {
        "id": "uVbeG6vJ-ao3",
        "colab": {
          "base_uri": "https://localhost:8080/",
          "height": 586
        },
        "outputId": "936fd5ba-78a2-40dc-fccb-73852c02b2fe"
      },
      "execution_count": 12,
      "outputs": [
        {
          "output_type": "execute_result",
          "data": {
            "text/plain": [
              "customerID             object\n",
              "Genero                 object\n",
              "Idoso                   int64\n",
              "Casado                 object\n",
              "Dependents             object\n",
              "Tempo_como_Cliente      int64\n",
              "PhoneService           object\n",
              "Servico_Internet       object\n",
              "Servico_Seguranca      object\n",
              "Suporte_Tecnico        object\n",
              "StreamingTV            object\n",
              "Tipo_Contrato          object\n",
              "PaymentMethod          object\n",
              "Pagamento_Mensal      float64\n",
              "Total_Pago            float64\n",
              "Churn                  object\n",
              "dtype: object"
            ],
            "text/html": [
              "<div>\n",
              "<style scoped>\n",
              "    .dataframe tbody tr th:only-of-type {\n",
              "        vertical-align: middle;\n",
              "    }\n",
              "\n",
              "    .dataframe tbody tr th {\n",
              "        vertical-align: top;\n",
              "    }\n",
              "\n",
              "    .dataframe thead th {\n",
              "        text-align: right;\n",
              "    }\n",
              "</style>\n",
              "<table border=\"1\" class=\"dataframe\">\n",
              "  <thead>\n",
              "    <tr style=\"text-align: right;\">\n",
              "      <th></th>\n",
              "      <th>0</th>\n",
              "    </tr>\n",
              "  </thead>\n",
              "  <tbody>\n",
              "    <tr>\n",
              "      <th>customerID</th>\n",
              "      <td>object</td>\n",
              "    </tr>\n",
              "    <tr>\n",
              "      <th>Genero</th>\n",
              "      <td>object</td>\n",
              "    </tr>\n",
              "    <tr>\n",
              "      <th>Idoso</th>\n",
              "      <td>int64</td>\n",
              "    </tr>\n",
              "    <tr>\n",
              "      <th>Casado</th>\n",
              "      <td>object</td>\n",
              "    </tr>\n",
              "    <tr>\n",
              "      <th>Dependents</th>\n",
              "      <td>object</td>\n",
              "    </tr>\n",
              "    <tr>\n",
              "      <th>Tempo_como_Cliente</th>\n",
              "      <td>int64</td>\n",
              "    </tr>\n",
              "    <tr>\n",
              "      <th>PhoneService</th>\n",
              "      <td>object</td>\n",
              "    </tr>\n",
              "    <tr>\n",
              "      <th>Servico_Internet</th>\n",
              "      <td>object</td>\n",
              "    </tr>\n",
              "    <tr>\n",
              "      <th>Servico_Seguranca</th>\n",
              "      <td>object</td>\n",
              "    </tr>\n",
              "    <tr>\n",
              "      <th>Suporte_Tecnico</th>\n",
              "      <td>object</td>\n",
              "    </tr>\n",
              "    <tr>\n",
              "      <th>StreamingTV</th>\n",
              "      <td>object</td>\n",
              "    </tr>\n",
              "    <tr>\n",
              "      <th>Tipo_Contrato</th>\n",
              "      <td>object</td>\n",
              "    </tr>\n",
              "    <tr>\n",
              "      <th>PaymentMethod</th>\n",
              "      <td>object</td>\n",
              "    </tr>\n",
              "    <tr>\n",
              "      <th>Pagamento_Mensal</th>\n",
              "      <td>float64</td>\n",
              "    </tr>\n",
              "    <tr>\n",
              "      <th>Total_Pago</th>\n",
              "      <td>float64</td>\n",
              "    </tr>\n",
              "    <tr>\n",
              "      <th>Churn</th>\n",
              "      <td>object</td>\n",
              "    </tr>\n",
              "  </tbody>\n",
              "</table>\n",
              "</div><br><label><b>dtype:</b> object</label>"
            ]
          },
          "metadata": {},
          "execution_count": 12
        }
      ]
    },
    {
      "cell_type": "markdown",
      "source": [
        "# 2 - PORCENTAGEM DE DADOS FALTANTES."
      ],
      "metadata": {
        "id": "cu4kjiXn_w9t"
      }
    },
    {
      "cell_type": "code",
      "source": [
        "nulls = df.isnull().sum()\n",
        "percent_nulls = (df.isnull().sum() / len(df)) * 100\n",
        "\n",
        "null_report = pd.DataFrame({\n",
        "    'Valores Nulos': nulls,\n",
        "    'Porcentagem (%)': percent_nulls\n",
        "})\n",
        "\n",
        "print(null_report)"
      ],
      "metadata": {
        "id": "nNYLgakRDPr2",
        "colab": {
          "base_uri": "https://localhost:8080/"
        },
        "outputId": "25207234-2d04-42ed-fd15-e9bd03727ad8"
      },
      "execution_count": 13,
      "outputs": [
        {
          "output_type": "stream",
          "name": "stdout",
          "text": [
            "                    Valores Nulos  Porcentagem (%)\n",
            "customerID                      0             0.00\n",
            "Genero                         12             0.48\n",
            "Idoso                           0             0.00\n",
            "Casado                          0             0.00\n",
            "Dependents                      0             0.00\n",
            "Tempo_como_Cliente              0             0.00\n",
            "PhoneService                 1482            59.28\n",
            "Servico_Internet                0             0.00\n",
            "Servico_Seguranca               0             0.00\n",
            "Suporte_Tecnico                 0             0.00\n",
            "StreamingTV                     0             0.00\n",
            "Tipo_Contrato                   0             0.00\n",
            "PaymentMethod                   0             0.00\n",
            "Pagamento_Mensal              325            13.00\n",
            "Total_Pago                      0             0.00\n",
            "Churn                           5             0.20\n"
          ]
        }
      ]
    },
    {
      "cell_type": "markdown",
      "source": [
        "Exclusão de linhas com dados faltantes qye apresentam porcentagem BAIXA."
      ],
      "metadata": {
        "id": "HzzZHCVO_8b9"
      }
    },
    {
      "cell_type": "code",
      "source": [
        "df.drop(columns=['Genero'], inplace=True) # Porcentagem menor que 20%, MUITO BAIXA.\n",
        "df.drop(columns=['Pagamento_Mensal'], inplace=True)"
      ],
      "metadata": {
        "id": "bDZTgNy8ECwu"
      },
      "execution_count": 14,
      "outputs": []
    },
    {
      "cell_type": "markdown",
      "source": [
        "Verificando se a Coluna foi apagada:"
      ],
      "metadata": {
        "id": "hQhiYhcES-sn"
      }
    },
    {
      "cell_type": "code",
      "source": [
        "nulls = df.isnull().sum()\n",
        "percent_nulls = (df.isnull().sum() / len(df)) * 100\n",
        "\n",
        "null_report = pd.DataFrame({\n",
        "    'Valores Nulos': nulls,\n",
        "    'Porcentagem (%)': percent_nulls\n",
        "})\n",
        "\n",
        "print(null_report)"
      ],
      "metadata": {
        "colab": {
          "base_uri": "https://localhost:8080/"
        },
        "id": "ZZi-WYQLWI_C",
        "outputId": "a5b256ca-d7f8-4c48-c902-517cdc10efdf"
      },
      "execution_count": 15,
      "outputs": [
        {
          "output_type": "stream",
          "name": "stdout",
          "text": [
            "                    Valores Nulos  Porcentagem (%)\n",
            "customerID                      0             0.00\n",
            "Idoso                           0             0.00\n",
            "Casado                          0             0.00\n",
            "Dependents                      0             0.00\n",
            "Tempo_como_Cliente              0             0.00\n",
            "PhoneService                 1482            59.28\n",
            "Servico_Internet                0             0.00\n",
            "Servico_Seguranca               0             0.00\n",
            "Suporte_Tecnico                 0             0.00\n",
            "StreamingTV                     0             0.00\n",
            "Tipo_Contrato                   0             0.00\n",
            "PaymentMethod                   0             0.00\n",
            "Total_Pago                      0             0.00\n",
            "Churn                           5             0.20\n"
          ]
        }
      ]
    },
    {
      "cell_type": "markdown",
      "source": [
        "Colunas que precisam de uma analise mais detalhada: PhoneService & Churn"
      ],
      "metadata": {
        "id": "NM7zsUXhTJld"
      }
    },
    {
      "cell_type": "markdown",
      "source": [
        "**ANALISE DA COLUNA PHONESERVICE**"
      ],
      "metadata": {
        "id": "8vj-IwKlTg6n"
      }
    },
    {
      "cell_type": "code",
      "source": [
        "import matplotlib.pyplot as plt\n",
        "import seaborn as sns\n",
        "import pandas as pd\n",
        "\n",
        "# Cria uma cópia da coluna e preenche os nulos com 'Nulo'\n",
        "df_plot = df.copy()\n",
        "df_plot['PhoneService'] = df_plot['PhoneService'].fillna('Nulo')\n",
        "\n",
        "plt.figure(figsize=(10, 6))\n",
        "ax = sns.countplot(data=df_plot, x='PhoneService', palette='pastel')\n",
        "\n",
        "# Título e rótulos\n",
        "plt.title('Distribuição da PhoneService (incluindo nulos)')\n",
        "plt.xlabel('PhoneService')\n",
        "plt.ylabel('Contagem')\n",
        "plt.xticks(rotation=90)\n",
        "\n",
        "# Adiciona os valores exatos em cima de cada barra\n",
        "for p in ax.patches:\n",
        "    height = int(p.get_height())\n",
        "    ax.annotate(f'{height}',\n",
        "                (p.get_x() + p.get_width() / 2., height),\n",
        "                ha='center', va='bottom', fontsize=10)\n",
        "\n",
        "plt.tight_layout()\n",
        "plt.show()"
      ],
      "metadata": {
        "colab": {
          "base_uri": "https://localhost:8080/",
          "height": 699
        },
        "id": "8y1bAubSeSJo",
        "outputId": "d68d2483-be34-49f2-d8d2-cde3a4750035"
      },
      "execution_count": 17,
      "outputs": [
        {
          "output_type": "stream",
          "name": "stderr",
          "text": [
            "/tmp/ipython-input-17-609464243.py:10: FutureWarning: \n",
            "\n",
            "Passing `palette` without assigning `hue` is deprecated and will be removed in v0.14.0. Assign the `x` variable to `hue` and set `legend=False` for the same effect.\n",
            "\n",
            "  ax = sns.countplot(data=df_plot, x='PhoneService', palette='pastel')\n"
          ]
        },
        {
          "output_type": "display_data",
          "data": {
            "text/plain": [
              "<Figure size 1000x600 with 1 Axes>"
            ],
            "image/png": "[encoded data removed]"
          },
          "metadata": {}
        }
      ]
    },
    {
      "cell_type": "markdown",
      "source": [
        "Para não ficar um preenchimento sem desenvolvimento dos Nulos em cima da probabilidade atual de YES/NO criei uma logica matematica para preencher os valores dentro da coluna de Nulos."
      ],
      "metadata": {
        "id": "L3QUDth8Tr-m"
      }
    },
    {
      "cell_type": "code",
      "source": [
        "x=87/931*100\n",
        "print(x)"
      ],
      "metadata": {
        "colab": {
          "base_uri": "https://localhost:8080/"
        },
        "id": "wU9SaHiMHh36",
        "outputId": "179699d2-66dc-493b-a55f-ba929ffb255f"
      },
      "execution_count": 5,
      "outputs": [
        {
          "output_type": "stream",
          "name": "stdout",
          "text": [
            "9.344790547798066\n"
          ]
        }
      ]
    },
    {
      "cell_type": "code",
      "source": [
        "no=1482*(x/100)\n",
        "print(no)"
      ],
      "metadata": {
        "colab": {
          "base_uri": "https://localhost:8080/"
        },
        "id": "DAdBF2BhIQ1Y",
        "outputId": "a4ad68dd-a963-4980-b137-806708327c57"
      },
      "execution_count": 8,
      "outputs": [
        {
          "output_type": "stream",
          "name": "stdout",
          "text": [
            "138.48979591836735\n"
          ]
        }
      ]
    },
    {
      "cell_type": "code",
      "source": [
        "yes=1482-no\n",
        "print(yes)"
      ],
      "metadata": {
        "colab": {
          "base_uri": "https://localhost:8080/"
        },
        "id": "7CiTZNWAIldj",
        "outputId": "563a9eb1-49ec-4213-a4ab-83de6cf19339"
      },
      "execution_count": 9,
      "outputs": [
        {
          "output_type": "stream",
          "name": "stdout",
          "text": [
            "1343.5102040816328\n"
          ]
        }
      ]
    },
    {
      "cell_type": "markdown",
      "source": [
        "Vou colocar a proporção de YES/NO dentro da coluna de dados nulos."
      ],
      "metadata": {
        "id": "VKsxTnPhJM7S"
      }
    },
    {
      "cell_type": "code",
      "source": [
        "import pandas as pd\n",
        "import numpy as np\n",
        "\n",
        "# Seleciona os índices onde PhoneService é nulo\n",
        "null_indices = df[df['PhoneService'].isnull()].index\n",
        "\n",
        "# Defino meus valores nulos atuais\n",
        "total_nulls = len(null_indices)\n",
        "if total_nulls < 139 + 1343:\n",
        "    raise ValueError(f\"Não há valores nulos suficientes. Esperado: 1483, Encontrado: {total_nulls}\")\n",
        "\n",
        "# Embaralha os índices nulos\n",
        "shuffled_indices = np.random.permutation(null_indices)\n",
        "\n",
        "# Define os índices para \"No\" e \"Yes\"\n",
        "no_indices = shuffled_indices[:139]\n",
        "yes_indices = shuffled_indices[139:139+1343]\n",
        "\n",
        "# Preenche os valores\n",
        "df.loc[no_indices, 'PhoneService'] = 'No'\n",
        "df.loc[yes_indices, 'PhoneService'] = 'Yes'"
      ],
      "metadata": {
        "id": "eCIMGrEHJLId"
      },
      "execution_count": 19,
      "outputs": []
    },
    {
      "cell_type": "markdown",
      "source": [
        "Verificando se todos os dados negativos foram preenchidos:"
      ],
      "metadata": {
        "id": "jzyvRVvLKdNS"
      }
    },
    {
      "cell_type": "code",
      "source": [
        "df['PhoneService'].isnull().sum().sum()"
      ],
      "metadata": {
        "colab": {
          "base_uri": "https://localhost:8080/"
        },
        "id": "NbPfZpUUKQIV",
        "outputId": "249c68d3-a0a3-45f8-b2cc-64dc9df97db0"
      },
      "execution_count": 23,
      "outputs": [
        {
          "output_type": "execute_result",
          "data": {
            "text/plain": [
              "np.int64(0)"
            ]
          },
          "metadata": {},
          "execution_count": 23
        }
      ]
    },
    {
      "cell_type": "markdown",
      "source": [
        "Verificando como ficaria o novo gráfico:"
      ],
      "metadata": {
        "id": "4_nutSuDKJyV"
      }
    },
    {
      "cell_type": "code",
      "source": [
        "import matplotlib.pyplot as plt\n",
        "import seaborn as sns\n",
        "import pandas as pd\n",
        "\n",
        "# Cria uma cópia da coluna e preenche os nulos com 'Nulo'\n",
        "df_plot = df.copy()\n",
        "df_plot['PhoneService'] = df_plot['PhoneService'].fillna('Nulo')\n",
        "\n",
        "plt.figure(figsize=(10, 6))\n",
        "ax = sns.countplot(data=df_plot, x='PhoneService', palette='pastel')\n",
        "\n",
        "# Título e rótulos\n",
        "plt.title('Distribuição da PhoneService (incluindo nulos)')\n",
        "plt.xlabel('PhoneService')\n",
        "plt.ylabel('Contagem')\n",
        "plt.xticks(rotation=90)\n",
        "\n",
        "# Adiciona os valores exatos em cima de cada barra\n",
        "for p in ax.patches:\n",
        "    height = int(p.get_height())\n",
        "    ax.annotate(f'{height}',\n",
        "                (p.get_x() + p.get_width() / 2., height),\n",
        "                ha='center', va='bottom', fontsize=10)\n",
        "\n",
        "plt.tight_layout()\n",
        "plt.show()"
      ],
      "metadata": {
        "colab": {
          "base_uri": "https://localhost:8080/",
          "height": 699
        },
        "id": "GX6rt1Y4KCvP",
        "outputId": "60758a55-f38b-46b5-cca5-bd63c0c770fe"
      },
      "execution_count": 20,
      "outputs": [
        {
          "output_type": "stream",
          "name": "stderr",
          "text": [
            "/tmp/ipython-input-20-609464243.py:10: FutureWarning: \n",
            "\n",
            "Passing `palette` without assigning `hue` is deprecated and will be removed in v0.14.0. Assign the `x` variable to `hue` and set `legend=False` for the same effect.\n",
            "\n",
            "  ax = sns.countplot(data=df_plot, x='PhoneService', palette='pastel')\n"
          ]
        },
        {
          "output_type": "display_data",
          "data": {
            "text/plain": [
              "<Figure size 1000x600 with 1 Axes>"
            ],
            "image/png": "[encoded data removed]"
          },
          "metadata": {}
        }
      ]
    },
    {
      "cell_type": "markdown",
      "source": [
        "**ANALISE COLUNA CHURN**"
      ],
      "metadata": {
        "id": "6ig_5H7gQOua"
      }
    },
    {
      "cell_type": "code",
      "source": [
        "plt.figure(figsize=(10, 6))\n",
        "ax = sns.countplot(data=df, x='Churn', palette='pastel')\n",
        "\n",
        "\n",
        "plt.title('Distribuição de Churn')\n",
        "plt.ylabel('Contagem')\n",
        "plt.xticks(rotation=90)\n",
        "\n",
        "for p in ax.patches:\n",
        "    height = int(p.get_height())\n",
        "    ax.annotate(f'{height}',\n",
        "                (p.get_x() + p.get_width() / 2., height),\n",
        "                ha='center', va='bottom', fontsize=10)\n",
        "\n",
        "plt.tight_layout()\n",
        "plt.show()"
      ],
      "metadata": {
        "colab": {
          "base_uri": "https://localhost:8080/",
          "height": 699
        },
        "id": "CUO3XXCfQJNS",
        "outputId": "833e1c9d-2942-4e32-e165-d089d5399c8a"
      },
      "execution_count": 41,
      "outputs": [
        {
          "output_type": "stream",
          "name": "stderr",
          "text": [
            "/tmp/ipython-input-41-1406915951.py:2: FutureWarning: \n",
            "\n",
            "Passing `palette` without assigning `hue` is deprecated and will be removed in v0.14.0. Assign the `x` variable to `hue` and set `legend=False` for the same effect.\n",
            "\n",
            "  ax = sns.countplot(data=df, x='Churn', palette='pastel')\n"
          ]
        },
        {
          "output_type": "display_data",
          "data": {
            "text/plain": [
              "<Figure size 1000x600 with 1 Axes>"
            ],
            "image/png": "[encoded data removed]"
          },
          "metadata": {}
        }
      ]
    },
    {
      "cell_type": "markdown",
      "source": [
        "Minha análise: valores nulos apresentam porcentagem de 0,2% o quê é muito baixa, poderiam ser deletados ou então, como a tarefa pede para que sejam substituidos, coloquei todos como NO pelo fato de o gráfico estar com mais de 50% em NO."
      ],
      "metadata": {
        "id": "NylmD-kURvEs"
      }
    },
    {
      "cell_type": "code",
      "source": [
        "df['Churn'] = df['Churn'].fillna('NO')"
      ],
      "metadata": {
        "id": "1h7B6Gv4RE3U"
      },
      "execution_count": 42,
      "outputs": []
    },
    {
      "cell_type": "markdown",
      "source": [
        "Verificar se os dados nulos foram substituidos por NO:"
      ],
      "metadata": {
        "id": "3F22ElCVRoMn"
      }
    },
    {
      "cell_type": "code",
      "source": [
        "df['PhoneService'].isnull().sum().sum()"
      ],
      "metadata": {
        "colab": {
          "base_uri": "https://localhost:8080/"
        },
        "id": "Mud0CR_JRgY-",
        "outputId": "151f75ac-7c79-44e5-aa56-ca99c12b173a"
      },
      "execution_count": 43,
      "outputs": [
        {
          "output_type": "execute_result",
          "data": {
            "text/plain": [
              "np.int64(0)"
            ]
          },
          "metadata": {},
          "execution_count": 43
        }
      ]
    },
    {
      "cell_type": "markdown",
      "source": [
        "# 3 - VERIFICAÇÃO DE DADOS ESCRITOS DE FORMA ERRADA E CORREÇÃO."
      ],
      "metadata": {
        "id": "KyM7bzIWAevH"
      }
    },
    {
      "cell_type": "code",
      "source": [
        "for col in df.columns:\n",
        "    print(f'{col}: {df[col].unique()}')"
      ],
      "metadata": {
        "id": "pBLJpzXXGTcq",
        "colab": {
          "base_uri": "https://localhost:8080/"
        },
        "outputId": "b7677514-286c-4605-c97d-abf44bef3ff7"
      },
      "execution_count": 29,
      "outputs": [
        {
          "output_type": "stream",
          "name": "stdout",
          "text": [
            "customerID: ['7590-VHVEG' '5575-GNVDE' '3668-QPYBK' ... '5702-SKUOB' '1134-YWTYF'\n",
            " '6061-GWWAV']\n",
            "Idoso: [0 1]\n",
            "Casado: ['YES' 'NO']\n",
            "Dependents: ['NO' 'YES']\n",
            "Tempo_como_Cliente: [ 1 34  2 45  8 22 10 28 62 13 16 58 49 25 69 52 71 21 12 30 47 72 17 27\n",
            "  5 46 11 70 63 43 15 60 18 66  9  3 31 50 64 56  7 42 35 48 29 65 38 68\n",
            " 32 55 37 36 41  6  4 33 67 23 57 61 14 20 53 40 59 24 44 19 54 51 26  0\n",
            " 39]\n",
            "PhoneService: ['NO' 'YES']\n",
            "Servico_Internet: ['DSL' 'FIBER OPTIC' 'NO']\n",
            "Servico_Seguranca: ['NO' 'YES' 'NO INTERNET SERVICE']\n",
            "Suporte_Tecnico: ['NO' 'YES' 'NO INTERNET SERVICE']\n",
            "StreamingTV: ['NO' 'YES' 'NO INTERNET SERVICE']\n",
            "Tipo_Contrato: ['MONTH-TO-MONTH' 'ONE YEAR' 'TWO YEAR']\n",
            "PaymentMethod: ['ELECTRONIC CHECK' 'MAILED CHECK' 'BANK TRANSFER (AUTOMATIC)'\n",
            " 'CREDIT CARD (AUTOMATIC)']\n",
            "Total_Pago: [  29.85 1889.5   108.15 ...   93.45 1389.85 2894.55]\n",
            "Churn: ['NO' 'YES' nan]\n"
          ]
        }
      ]
    },
    {
      "cell_type": "code",
      "source": [
        "df['Servico_Internet'] = df['Servico_Internet'].str.upper()\n",
        "df['Servico_Internet'].unique()"
      ],
      "metadata": {
        "colab": {
          "base_uri": "https://localhost:8080/"
        },
        "id": "5KGLIPLvMdu3",
        "outputId": "6be374a7-f9aa-455e-f581-aacd2a9a397e"
      },
      "execution_count": 27,
      "outputs": [
        {
          "output_type": "execute_result",
          "data": {
            "text/plain": [
              "array(['DSL', 'FIBER OPTIC', 'NO'], dtype=object)"
            ]
          },
          "metadata": {},
          "execution_count": 27
        }
      ]
    },
    {
      "cell_type": "code",
      "source": [
        "df['Servico_Seguranca'] = df['Servico_Seguranca'].replace('NO INTERNET SERVICE','NO')\n",
        "df['Servico_Seguranca'].unique()"
      ],
      "metadata": {
        "colab": {
          "base_uri": "https://localhost:8080/"
        },
        "id": "iklCom2UNZ3r",
        "outputId": "3ccb5fe0-4e15-4075-ad78-66ee79080612"
      },
      "execution_count": 36,
      "outputs": [
        {
          "output_type": "execute_result",
          "data": {
            "text/plain": [
              "array(['NO', 'YES'], dtype=object)"
            ]
          },
          "metadata": {},
          "execution_count": 36
        }
      ]
    },
    {
      "cell_type": "code",
      "source": [
        "df['Suporte_Tecnico'] = df['Suporte_Tecnico'].replace('NO INTERNET SERVICE','NO')\n",
        "df['Servico_Seguranca'].unique()"
      ],
      "metadata": {
        "id": "TM93gaoxgEgS",
        "colab": {
          "base_uri": "https://localhost:8080/"
        },
        "outputId": "612304d1-02ce-483e-b1b7-db3ea8185ce3"
      },
      "execution_count": 37,
      "outputs": [
        {
          "output_type": "execute_result",
          "data": {
            "text/plain": [
              "array(['NO', 'YES'], dtype=object)"
            ]
          },
          "metadata": {},
          "execution_count": 37
        }
      ]
    },
    {
      "cell_type": "code",
      "source": [
        "df['StreamingTV'] = df['StreamingTV'].replace('NO INTERNET SERVICE','NO')\n",
        "df['Servico_Seguranca'].unique()"
      ],
      "metadata": {
        "colab": {
          "base_uri": "https://localhost:8080/"
        },
        "id": "sAqn8uZDPAzT",
        "outputId": "0d8383d1-ebbf-4ff9-bd61-b383f2d90fcd"
      },
      "execution_count": 38,
      "outputs": [
        {
          "output_type": "execute_result",
          "data": {
            "text/plain": [
              "array(['NO', 'YES'], dtype=object)"
            ]
          },
          "metadata": {},
          "execution_count": 38
        }
      ]
    },
    {
      "cell_type": "markdown",
      "source": [
        "4 - RENOMEEI ALGUMAS COLUNAS E SAVE DO DATAFRAME."
      ],
      "metadata": {
        "id": "C-2vJktpA0r7"
      }
    },
    {
      "cell_type": "code",
      "source": [
        "df = df.drop('customerID', axis=1)"
      ],
      "metadata": {
        "id": "bhcTYAb_PyaA"
      },
      "execution_count": 44,
      "outputs": []
    },
    {
      "cell_type": "code",
      "source": [
        "df = df.rename(columns={'Dependents': 'Dependentes'})"
      ],
      "metadata": {
        "id": "Qp-Je42rVNgt"
      },
      "execution_count": 45,
      "outputs": []
    },
    {
      "cell_type": "code",
      "source": [
        "df = df.rename(columns={'PhoneService': 'Serviço_Telefonico'})"
      ],
      "metadata": {
        "id": "GJtzLVqeVYNe"
      },
      "execution_count": 46,
      "outputs": []
    },
    {
      "cell_type": "code",
      "source": [
        "df = df.rename(columns={'PaymentMethod': 'Tipo_de_Pagamento'})"
      ],
      "metadata": {
        "id": "q_5IoWxiVf7b"
      },
      "execution_count": 47,
      "outputs": []
    },
    {
      "cell_type": "code",
      "source": [
        "df.to_csv('CHURN_TELECON_MOD08_ESTUDADO.csv', index=False)"
      ],
      "metadata": {
        "id": "oH9AUx8hVrrB"
      },
      "execution_count": 48,
      "outputs": []
    }
  ]
}